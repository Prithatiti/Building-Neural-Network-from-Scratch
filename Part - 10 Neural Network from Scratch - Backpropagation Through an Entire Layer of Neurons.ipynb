{
 "cells": [
  {
   "cell_type": "markdown",
   "id": "dc358225-1299-4186-a283-c01e86e3e2e9",
   "metadata": {},
   "source": [
    "# Building Neural Network from Scratch Part - 10"
   ]
  },
  {
   "cell_type": "code",
   "execution_count": 1,
   "id": "90050ba2-5b13-4c81-a8a7-0c923aaccb24",
   "metadata": {},
   "outputs": [],
   "source": [
    "# Importing libraries\n",
    "import numpy as np"
   ]
  },
  {
   "cell_type": "code",
   "execution_count": 2,
   "id": "53782ed8-9042-4cf6-918e-f810dbc12999",
   "metadata": {},
   "outputs": [],
   "source": [
    "# Initial inputs\n",
    "inputs = np.array([1, 2, 3, 4])\n",
    "\n",
    "# Initial weights and biases\n",
    "weights = np.array([\n",
    "    [0.1, 0.2, 0.3, 0.4],\n",
    "    [0.5, 0.6, 0.7, 0.8],\n",
    "    [0.9, 1.0, 1.1, 1.2]\n",
    "])\n",
    "\n",
    "biases = np.array([0.1, 0.2, 0.3])\n",
    "\n",
    "# Learning rate\n",
    "learning_rate = 0.001"
   ]
  },
  {
   "cell_type": "code",
   "execution_count": 3,
   "id": "3bbc320e-ef71-438e-912b-267f10832453",
   "metadata": {},
   "outputs": [],
   "source": [
    "# ReLU activation function and its derivative\n",
    "def relu(x):\n",
    "    return np.maximum(0, x)\n",
    "\n",
    "def relu_derivative(x):\n",
    "    return np.where(x > 0, 1, 0)"
   ]
  },
  {
   "cell_type": "markdown",
   "id": "b7229525-73b5-43fc-8d49-c91a9c091caa",
   "metadata": {},
   "source": [
    "### Backpropagation: Layer of Neurons"
   ]
  },
  {
   "cell_type": "markdown",
   "id": "e70806a0-11db-4b9d-b2b6-74e190986e89",
   "metadata": {},
   "source": [
    "Note: \n",
    "- numpy.outer() function compute the outer product of two vectors. out[i, j] = a[i] * b[j]<br>\n",
    "- The numpy.one_like() function returns an array of given shape and type as a given array, with ones."
   ]
  },
  {
   "attachments": {},
   "cell_type": "markdown",
   "id": "c60155de-8f3b-4c4d-a487-6fbb7364e78e",
   "metadata": {},
   "source": [
    "<img src=\"Diagram - 1.JPG\">"
   ]
  },
  {
   "cell_type": "code",
   "execution_count": 11,
   "id": "988782d6-71f6-4568-b2f7-c29ba0efd411",
   "metadata": {},
   "outputs": [
    {
     "ename": "NameError",
     "evalue": "name 'np' is not defined",
     "output_type": "error",
     "traceback": [
      "\u001b[1;31m---------------------------------------------------------------------------\u001b[0m",
      "\u001b[1;31mNameError\u001b[0m                                 Traceback (most recent call last)",
      "Cell \u001b[1;32mIn[11], line 4\u001b[0m\n\u001b[0;32m      1\u001b[0m \u001b[38;5;66;03m# Training loop\u001b[39;00m\n\u001b[0;32m      2\u001b[0m \u001b[38;5;28;01mfor\u001b[39;00m iteration \u001b[38;5;129;01min\u001b[39;00m \u001b[38;5;28mrange\u001b[39m(\u001b[38;5;241m200\u001b[39m):\n\u001b[0;32m      3\u001b[0m     \u001b[38;5;66;03m# Forward pass\u001b[39;00m\n\u001b[1;32m----> 4\u001b[0m     z \u001b[38;5;241m=\u001b[39m np\u001b[38;5;241m.\u001b[39mdot(weights, inputs) \u001b[38;5;241m+\u001b[39m biases\n\u001b[0;32m      5\u001b[0m     a \u001b[38;5;241m=\u001b[39m relu(z)\n\u001b[0;32m      6\u001b[0m     y \u001b[38;5;241m=\u001b[39m np\u001b[38;5;241m.\u001b[39msum(a)\n",
      "\u001b[1;31mNameError\u001b[0m: name 'np' is not defined"
     ]
    }
   ],
   "source": [
    "# Training loop\n",
    "for iteration in range(200):\n",
    "    # Forward pass\n",
    "    z = np.dot(weights, inputs) + biases\n",
    "    a = relu(z)\n",
    "    y = np.sum(a)\n",
    "\n",
    "    # calculate loss\n",
    "    loss = y ** 2\n",
    "\n",
    "    # Backward pass\n",
    "    # Gradient of loss with respect to output y\n",
    "    dL_dy = 2 * y\n",
    "    # Gradient of y with respect to a\n",
    "    dy_da = np.ones_like(a)\n",
    "    # Gradient of loss with respect to a\n",
    "    dL_da = dL_dy * dy_da\n",
    "    # Gradient of a with respect to z (ReLU derivative)\n",
    "    da_dz = relu_derivative(z)\n",
    "    # Gradient of loss with respect to z\n",
    "    dL_dz = dL_da * da_dz\n",
    "\n",
    "    # Gradient of z with respect to weights and biases\n",
    "    dL_dW = np.outer(dL_dz, inputs)\n",
    "    # print(dL_dW)\n",
    "    dL_db = dL_dz\n",
    "\n",
    "    # Update weights and biases\n",
    "    weights -= learning_rate * dL_dW\n",
    "    biases -= learning_rate * dL_db\n",
    "\n",
    "    # Print the loss every 20 iterations\n",
    "    if iteration % 20 == 0:\n",
    "        print(f\"Iteration {iteration}, Loss: {loss}\")\n",
    "\n",
    "# Final weights and biases\n",
    "print(\"Final weights:\\n\", weights)\n",
    "print(\"Final biases:\\n\", biases)"
   ]
  }
 ],
 "metadata": {
  "kernelspec": {
   "display_name": "base",
   "language": "python",
   "name": "python3"
  },
  "language_info": {
   "codemirror_mode": {
    "name": "ipython",
    "version": 3
   },
   "file_extension": ".py",
   "mimetype": "text/x-python",
   "name": "python",
   "nbconvert_exporter": "python",
   "pygments_lexer": "ipython3",
   "version": "3.12.7"
  }
 },
 "nbformat": 4,
 "nbformat_minor": 5
}
