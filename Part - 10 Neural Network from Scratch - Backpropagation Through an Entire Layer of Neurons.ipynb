{
 "cells": [
  {
   "cell_type": "markdown",
   "id": "dc358225-1299-4186-a283-c01e86e3e2e9",
   "metadata": {},
   "source": [
    "# Building Neural Network from Scratch Part - 10"
   ]
  },
  {
   "cell_type": "code",
   "execution_count": 1,
   "id": "90050ba2-5b13-4c81-a8a7-0c923aaccb24",
   "metadata": {},
   "outputs": [],
   "source": [
    "# Importing libraries\n",
    "import numpy as np"
   ]
  },
  {
   "cell_type": "code",
   "execution_count": 2,
   "id": "53782ed8-9042-4cf6-918e-f810dbc12999",
   "metadata": {},
   "outputs": [],
   "source": [
    "# Initial inputs\n",
    "inputs = np.array([1, 2, 3, 4])\n",
    "\n",
    "# Initial weights and biases\n",
    "weights = np.array([\n",
    "    [0.1, 0.2, 0.3, 0.4],\n",
    "    [0.5, 0.6, 0.7, 0.8],\n",
    "    [0.9, 1.0, 1.1, 1.2]\n",
    "])\n",
    "\n",
    "biases = np.array([0.1, 0.2, 0.3])\n",
    "\n",
    "# Learning rate\n",
    "learning_rate = 0.001"
   ]
  },
  {
   "cell_type": "code",
   "execution_count": 3,
   "id": "3bbc320e-ef71-438e-912b-267f10832453",
   "metadata": {},
   "outputs": [],
   "source": [
    "# ReLU activation function and its derivative\n",
    "def relu(x):\n",
    "    return np.maximum(0, x)\n",
    "\n",
    "def relu_derivative(x):\n",
    "    return np.where(x > 0, 1, 0)"
   ]
  },
  {
   "cell_type": "markdown",
   "id": "b7229525-73b5-43fc-8d49-c91a9c091caa",
   "metadata": {},
   "source": [
    "### Backpropagation: Layer of Neurons"
   ]
  },
  {
   "cell_type": "markdown",
   "id": "e70806a0-11db-4b9d-b2b6-74e190986e89",
   "metadata": {},
   "source": [
    "Note: \n",
    "- numpy.outer() function compute the outer product of two vectors. out[i, j] = a[i] * b[j]<br>\n",
    "- The numpy.one_like() function returns an array of given shape and type as a given array, with ones."
   ]
  },
  {
   "attachments": {},
   "cell_type": "markdown",
   "id": "c60155de-8f3b-4c4d-a487-6fbb7364e78e",
   "metadata": {},
   "source": [
    "<img src=\"E:\\Building-Neural-Network-from-Scratch\\Diagram - 1.jpg\">"
   ]
  },
  {
   "cell_type": "code",
   "execution_count": 4,
   "id": "988782d6-71f6-4568-b2f7-c29ba0efd411",
   "metadata": {},
   "outputs": [
    {
     "name": "stdout",
     "output_type": "stream",
     "text": [
      "Iteration 0, Loss: 466.56000000000006\n",
      "Iteration 20, Loss: 5.32959636083938\n",
      "Iteration 40, Loss: 0.4119152340489983\n",
      "Iteration 60, Loss: 0.03183621207946751\n",
      "Iteration 80, Loss: 0.0024605654653895997\n",
      "Iteration 100, Loss: 0.00019017282566014768\n",
      "Iteration 120, Loss: 1.4698126966450583e-05\n",
      "Iteration 140, Loss: 1.1359926717817246e-06\n",
      "Iteration 160, Loss: 8.77988980016028e-08\n",
      "Iteration 180, Loss: 6.785824135779993e-09\n",
      "Final weights:\n",
      " [[-0.00698895 -0.01397789 -0.02096684 -0.02795579]\n",
      " [ 0.25975286  0.11950572 -0.02074143 -0.16098857]\n",
      " [ 0.53548461  0.27096922  0.00645383 -0.25806156]]\n",
      "Final biases:\n",
      " [-0.00698895 -0.04024714 -0.06451539]\n"
     ]
    }
   ],
   "source": [
    "# Training loop\n",
    "for iteration in range(200):\n",
    "    # Forward pass\n",
    "    z = np.dot(weights, inputs) + biases\n",
    "    a = relu(z)\n",
    "    y = np.sum(a)\n",
    "\n",
    "    # calculate loss\n",
    "    loss = y ** 2\n",
    "\n",
    "    # Backward pass\n",
    "    # Gradient of loss with respect to output y\n",
    "    dL_dy = 2 * y\n",
    "    # Gradient of y with respect to a\n",
    "    dy_da = np.ones_like(a)\n",
    "    # Gradient of loss with respect to a\n",
    "    dL_da = dL_dy * dy_da\n",
    "    # Gradient of a with respect to z (ReLU derivative)\n",
    "    da_dz = relu_derivative(z)\n",
    "    # Gradient of loss with respect to z\n",
    "    dL_dz = dL_da * da_dz\n",
    "\n",
    "    # Gradient of z with respect to weights and biases\n",
    "    dL_dW = np.outer(dL_dz, inputs)\n",
    "    # print(dL_dW)\n",
    "    dL_db = dL_dz\n",
    "\n",
    "    # Update weights and biases\n",
    "    weights -= learning_rate * dL_dW\n",
    "    biases -= learning_rate * dL_db\n",
    "\n",
    "    # Print the loss every 20 iterations\n",
    "    if iteration % 20 == 0:\n",
    "        print(f\"Iteration {iteration}, Loss: {loss}\")\n",
    "\n",
    "# Final weights and biases\n",
    "print(\"Final weights:\\n\", weights)\n",
    "print(\"Final biases:\\n\", biases)"
   ]
  }
 ],
 "metadata": {
  "kernelspec": {
   "display_name": "Python 3 (ipykernel)",
   "language": "python",
   "name": "python3"
  },
  "language_info": {
   "codemirror_mode": {
    "name": "ipython",
    "version": 3
   },
   "file_extension": ".py",
   "mimetype": "text/x-python",
   "name": "python",
   "nbconvert_exporter": "python",
   "pygments_lexer": "ipython3",
   "version": "3.12.7"
  }
 },
 "nbformat": 4,
 "nbformat_minor": 5
}
