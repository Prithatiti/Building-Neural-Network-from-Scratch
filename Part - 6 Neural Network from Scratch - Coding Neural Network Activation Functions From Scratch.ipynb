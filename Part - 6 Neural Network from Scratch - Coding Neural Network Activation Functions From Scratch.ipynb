{
 "cells": [
  {
   "cell_type": "markdown",
   "id": "43126354-8d56-4157-8b88-d02610ccc776",
   "metadata": {},
   "source": [
    "# Building Neural Network from Scratch Part - 6"
   ]
  },
  {
   "cell_type": "code",
   "execution_count": 1,
   "id": "bb61ee98-6219-49fc-a0c1-44ecb7049a52",
   "metadata": {},
   "outputs": [],
   "source": [
    "# Importing Numpy\n",
    "import numpy as np\n",
    "from nnfs.datasets import spiral_data\n",
    "import nnfs\n",
    "nnfs.init()"
   ]
  },
  {
   "cell_type": "markdown",
   "id": "658f4d6c-289a-4f35-92cf-02d48af3a213",
   "metadata": {},
   "source": [
    "### Dense Layer Class"
   ]
  },
  {
   "cell_type": "code",
   "execution_count": 2,
   "id": "09739a73-1514-4c5e-a76d-441c35c02b7f",
   "metadata": {},
   "outputs": [],
   "source": [
    "class Layer_Dense:\n",
    "    # Layer initialization\n",
    "    def __init__(self, n_inputs, n_neurons):\n",
    "        # Initialize weights and biases\n",
    "        self.weights = 0.01 * np.random.randn(n_inputs, n_neurons)\n",
    "        self.biases = np.zeros((1, n_neurons))\n",
    "\n",
    "    # Forward pass\n",
    "    def forward(self, batch_inputs):\n",
    "        # Calculate the output values from inputs, weights and biases\n",
    "        self.output = np.dot(batch_inputs, self.weights) + self.biases"
   ]
  },
  {
   "cell_type": "markdown",
   "id": "cbfb7463-0697-4508-b907-02993682e386",
   "metadata": {},
   "source": [
    "### **Activation Function: ReLU**"
   ]
  },
  {
   "cell_type": "code",
   "execution_count": 3,
   "id": "ddc63eda-f6d5-4a9c-b18b-677507280608",
   "metadata": {},
   "outputs": [
    {
     "name": "stdout",
     "output_type": "stream",
     "text": [
      "[0.  2.  0.  3.3 0.  1.1 2.2 0. ]\n"
     ]
    }
   ],
   "source": [
    "inputs = [0, 2, -1, 3.3, -2.7, 1.1, 2.2, -100]\n",
    "output = np.maximum(0, inputs)\n",
    "\n",
    "print(output)"
   ]
  },
  {
   "cell_type": "markdown",
   "id": "0ce8efa2-db2c-4197-850f-d80984255b84",
   "metadata": {},
   "source": [
    "### Building the ReLU Activation Function Class"
   ]
  },
  {
   "cell_type": "code",
   "execution_count": 4,
   "id": "de0a52dc-5112-42a8-a337-6e10449b9905",
   "metadata": {},
   "outputs": [],
   "source": [
    "# ReLU activation\n",
    "class Activation_ReLU:\n",
    "    def forward(self, inputs):\n",
    "        # Calculate the output value from input\n",
    "        self.output = np.maximum(0, inputs)"
   ]
  },
  {
   "cell_type": "markdown",
   "id": "0ced0a77-092e-4fec-b97b-7a8bf06cf493",
   "metadata": {},
   "source": [
    "### Using ReLU Class in the Spiral Dataset"
   ]
  },
  {
   "cell_type": "code",
   "execution_count": 5,
   "id": "eda0d062-f9f8-44d7-b8f4-1697d8e5b052",
   "metadata": {},
   "outputs": [
    {
     "name": "stdout",
     "output_type": "stream",
     "text": [
      "[[0.         0.         0.        ]\n",
      " [0.         0.00011395 0.        ]\n",
      " [0.         0.00031729 0.        ]\n",
      " [0.         0.00052666 0.        ]\n",
      " [0.         0.00071401 0.        ]]\n"
     ]
    }
   ],
   "source": [
    "# Create Dataset\n",
    "X, Y = spiral_data(samples = 100, classes = 3)\n",
    "\n",
    "# Create Dense Layer with 2 input features and 3 output values\n",
    "dense_1 = Layer_Dense(2, 3)\n",
    "# Perform a forward pass of our training data through this layer\n",
    "dense_1.forward(X)\n",
    "\n",
    "# Create ReLU activation (to be used with Dese layer)\n",
    "activation_1 = Activation_ReLU()\n",
    "# Forward pass through activation layer, takes an output from previous layer\n",
    "activation_1.forward(dense_1.output)\n",
    "\n",
    "# Let's see the output of the first few samples\n",
    "print(activation_1.output[: 5])"
   ]
  },
  {
   "cell_type": "markdown",
   "id": "ba4a5bac-5207-4951-a5de-f56fb0053c92",
   "metadata": {},
   "source": [
    "### **Activation Function: Softmax**"
   ]
  },
  {
   "cell_type": "code",
   "execution_count": 13,
   "id": "7eb2768c-f763-47cf-8b1c-29ba4bbdb58e",
   "metadata": {},
   "outputs": [
    {
     "name": "stdout",
     "output_type": "stream",
     "text": [
      "[[0.06414769 0.17437149 0.47399085 0.28748998]\n",
      " [0.04517666 0.90739747 0.00224921 0.04517666]\n",
      " [0.00522984 0.34875873 0.63547983 0.0105316 ]]\n"
     ]
    }
   ],
   "source": [
    "inputs = [\n",
    "    [1, 2, 3, 2.5],\n",
    "    [2.0, 5.0, -1.0, 2],\n",
    "    [-1.5, 2.7, 3.3, -0.8]\n",
    "]\n",
    "\n",
    "# Compute exponentials in a numerically stable way\n",
    "# Subtracting the maximum value in each input row to prevent large exponentials (improves numerical stability)\n",
    "exp_values = np.exp(inputs - np.max(inputs, axis = 1, keepdims = True))\n",
    "\n",
    "# Normalize the exponentials to get probabilities (softmax function)\n",
    "# Divide each element by the sum of exponentials in its row\n",
    "probabilities = exp_values / np.sum(exp_values, axis = 1, keepdims = True)\n",
    "\n",
    "# Print the resulting probabilities for each input vector\n",
    "print(probabilities)"
   ]
  },
  {
   "cell_type": "code",
   "execution_count": null,
   "id": "965ffcd0-f8c7-4736-af3f-3788c7f0478e",
   "metadata": {},
   "outputs": [
    {
     "data": {
      "text/plain": [
       "array([1., 1., 1.])"
      ]
     },
     "execution_count": 7,
     "metadata": {},
     "output_type": "execute_result"
    }
   ],
   "source": [
    "# Sum the probabilities across each row (i.e., for each input sample)\n",
    "# Since we applied softmax, each row represents a probability distribution\n",
    "# So, the sum of each row should be approximately 1.0\n",
    "\n",
    "np.sum(probabilities, axis = 1)"
   ]
  },
  {
   "cell_type": "markdown",
   "id": "a26662d9-81d9-4445-9b21-61ade9a1c676",
   "metadata": {},
   "source": [
    "### Building the Softmax Activation Function Class"
   ]
  },
  {
   "cell_type": "code",
   "execution_count": 8,
   "id": "63df9605-ba55-44d9-bdd3-d1b09f303b03",
   "metadata": {},
   "outputs": [],
   "source": [
    "# Softmax activation\n",
    "class Activation_Softmax:\n",
    "    def forward(self, inputs):\n",
    "        exp_values = np.exp(inputs - np.max(inputs, axis = 1, keepdims = True))\n",
    "        probabilities = exp_values / np.sum(exp_values, axis = 1, keepdims = True)\n",
    "        \n",
    "        # Assigning the probability values into output\n",
    "        self.output = probabilities"
   ]
  },
  {
   "cell_type": "markdown",
   "id": "2531770e-f8a3-4df1-8c16-2bc2e440d10f",
   "metadata": {},
   "source": [
    "### One Forward Pass (Without Loss Function)"
   ]
  },
  {
   "cell_type": "markdown",
   "id": "54bf699a",
   "metadata": {},
   "source": [
    "Note: In our neural network, we use ReLU activation in all the hidden layers to add non-linearity. But in the output layer, we use the Softmax activation function for multi-class classification. Softmax converts the outputs into probabilities that add up to 1, making it easier to identify the predicted class."
   ]
  },
  {
   "cell_type": "code",
   "execution_count": 9,
   "id": "0240c47a-cbff-471a-b112-6845a1d222d6",
   "metadata": {},
   "outputs": [
    {
     "name": "stdout",
     "output_type": "stream",
     "text": [
      "[[0.33333334 0.33333334 0.33333334]\n",
      " [0.33333334 0.33333334 0.33333334]\n",
      " [0.33333334 0.33333334 0.33333334]\n",
      " [0.33333334 0.33333334 0.33333334]\n",
      " [0.33333334 0.33333334 0.33333334]]\n"
     ]
    }
   ],
   "source": [
    "# Create Dataset\n",
    "X, Y = spiral_data(samples = 100, classes = 3)\n",
    "\n",
    "# Create Dense Layer with 2 input features and 3 output values\n",
    "dense_1 = Layer_Dense(2, 3)\n",
    "# Create ReLU activation (to be used with Dese layer)\n",
    "activation_1 = Activation_ReLU()\n",
    "\n",
    "# Create a second Dense layer with 3 input features (as we take output of previous layer here) and 3 output values\n",
    "dense_2 = Layer_Dense(3, 3)\n",
    "# Create Softmax activation (to be used with Dese layer)\n",
    "activation_2 = Activation_Softmax()\n",
    "\n",
    "\n",
    "# Make a forward pass of our training data through this layer\n",
    "dense_1.forward(X)\n",
    "# Make a forward pass through activation function, it takes the output of first dense layer\n",
    "activation_1.forward(dense_1.output)\n",
    "# Make a forward pass through second dense layer, it takes outputs of activation function of first layer as inputs\n",
    "dense_2.forward(activation_1.output)\n",
    "# Make a forward pass through activation function, it takes the output of second dense layer\n",
    "activation_2.forward(dense_2.output)\n",
    "\n",
    "# Let's see the output of the first few samples\n",
    "print(activation_2.output[: 5])"
   ]
  }
 ],
 "metadata": {
  "kernelspec": {
   "display_name": "base",
   "language": "python",
   "name": "python3"
  },
  "language_info": {
   "codemirror_mode": {
    "name": "ipython",
    "version": 3
   },
   "file_extension": ".py",
   "mimetype": "text/x-python",
   "name": "python",
   "nbconvert_exporter": "python",
   "pygments_lexer": "ipython3",
   "version": "3.12.7"
  }
 },
 "nbformat": 4,
 "nbformat_minor": 5
}
