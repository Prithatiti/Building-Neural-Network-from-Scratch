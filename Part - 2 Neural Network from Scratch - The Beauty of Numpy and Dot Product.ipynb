{
 "cells": [
  {
   "cell_type": "markdown",
   "id": "71df4a19-2cbf-4cb0-85a7-29f0cf6c5f4d",
   "metadata": {},
   "source": [
    "# **Building Neural Network from Scratch Part - 2**"
   ]
  },
  {
   "cell_type": "code",
   "execution_count": 1,
   "id": "7cecb438-29a6-4706-877c-0886cf53233d",
   "metadata": {},
   "outputs": [],
   "source": [
    "# Importing Numpy\n",
    "import numpy as np"
   ]
  },
  {
   "cell_type": "markdown",
   "id": "15ae06a1-e695-44ff-aff4-9ee2684ff55a",
   "metadata": {},
   "source": [
    "### Single Neuron Using Numpy"
   ]
  },
  {
   "cell_type": "markdown",
   "id": "35ddcca6-9867-4729-8f7c-b0a8f9f19bdf",
   "metadata": {},
   "source": [
    "Note: In case of vector-vector dot product, np.dot(a, b) = np.dot(b, a)"
   ]
  },
  {
   "cell_type": "code",
   "execution_count": 2,
   "id": "b8898625-a6a1-4d83-b47e-a4aa48c25c5a",
   "metadata": {},
   "outputs": [
    {
     "name": "stdout",
     "output_type": "stream",
     "text": [
      "4.8\n"
     ]
    }
   ],
   "source": [
    "inputs = [1.0, 2.0, 3.0, 2.5]\n",
    "weights = [0.2, 0.8, -0.5, 1.0]\n",
    "bias = 2.0\n",
    "\n",
    "output = np.dot(inputs, weights) + bias\n",
    "# output = np.dot(weights, inputs) + bias    # Both the statement will act same\n",
    "\n",
    "print(output)"
   ]
  },
  {
   "cell_type": "markdown",
   "id": "c3ad44c3-cf1f-4d3d-8675-12a4eab104fd",
   "metadata": {},
   "source": [
    "### Layer of Neurons Using Numpy"
   ]
  },
  {
   "cell_type": "markdown",
   "id": "d64d6f36-fac5-4103-abb1-b255bcec0a7b",
   "metadata": {},
   "source": [
    "Note: A dot product of a Metrix and a Vector results in a list of dot products.\n",
    "The np.dot() method treats the metrix as a list of vectors and performs a dot product of each of those vectors with the other vector"
   ]
  },
  {
   "cell_type": "code",
   "execution_count": 3,
   "id": "9dc9d950-6ec4-4b99-b86c-55ca7e176e25",
   "metadata": {},
   "outputs": [
    {
     "name": "stdout",
     "output_type": "stream",
     "text": [
      "[4.8   1.21  2.385]\n"
     ]
    }
   ],
   "source": [
    "inputs = [1, 2, 3, 2.5]\n",
    "weights = [[0.2, 0.8, -0.5, 1],\n",
    "          [0.5, -0.91, 0.26, -0.5],\n",
    "          [-0.26, -0.27, 0.17, 0.87]]\n",
    "\n",
    "biases = [2, 3, 0.5]\n",
    "\n",
    "layer_output = np.dot(weights, inputs) + biases\n",
    "# test_layer_output_1 = np.dot(inputs, weights) + biases    # It throws an error because of the dimension mismatch\n",
    "# test_layer_output_2 = np.dot(inputs, np.transpose(weights)) + biases\n",
    "\n",
    "\n",
    "print(layer_output)\n",
    "# print(test_layer_output_2)"
   ]
  },
  {
   "cell_type": "markdown",
   "id": "28394316-8bb7-4b47-b80b-0cc627eb6163",
   "metadata": {},
   "source": [
    "### Layer of Neurons and Batch of Data Using Numpy"
   ]
  },
  {
   "cell_type": "markdown",
   "id": "44b83937-2ef7-4159-b16b-8a5aa55fc4c4",
   "metadata": {},
   "source": [
    "Note: We can't transpose lists in Python, so we have to convert the weight matrix into an Array first"
   ]
  },
  {
   "cell_type": "code",
   "execution_count": 4,
   "id": "b4504687-329f-40c7-b204-bccd13ee358c",
   "metadata": {},
   "outputs": [
    {
     "name": "stdout",
     "output_type": "stream",
     "text": [
      "[[ 4.8    1.21   2.385]\n",
      " [ 8.9   -1.81   0.2  ]\n",
      " [ 1.41   1.051  0.026]]\n"
     ]
    }
   ],
   "source": [
    "batch_inputs = [[1.0, 2.0, 3.0, 2.5],\n",
    "                [2.0, 5.0, -1.0, 2.0],\n",
    "                [-1.5, 2.7, 3.3, -0.8]]\n",
    "\n",
    "weights = [[0.2, 0.8, -0.5, 1],\n",
    "          [0.5, -0.91, 0.26, -0.5],\n",
    "          [-0.26, -0.27, 0.17, 0.87]]\n",
    "\n",
    "biases = [2, 3, 0.5]\n",
    "\n",
    "outputs = np.dot(batch_inputs, np.array(weights).T) + biases\n",
    "\n",
    "print(outputs)"
   ]
  }
 ],
 "metadata": {
  "kernelspec": {
   "display_name": "Python 3 (ipykernel)",
   "language": "python",
   "name": "python3"
  },
  "language_info": {
   "codemirror_mode": {
    "name": "ipython",
    "version": 3
   },
   "file_extension": ".py",
   "mimetype": "text/x-python",
   "name": "python",
   "nbconvert_exporter": "python",
   "pygments_lexer": "ipython3",
   "version": "3.12.7"
  }
 },
 "nbformat": 4,
 "nbformat_minor": 5
}
