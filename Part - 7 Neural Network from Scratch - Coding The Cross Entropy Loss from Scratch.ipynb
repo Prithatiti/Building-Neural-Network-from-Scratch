{
 "cells": [
  {
   "cell_type": "markdown",
   "id": "ba9d650f-ddfb-40a7-884f-e20d622b2c8e",
   "metadata": {},
   "source": [
    "# Building Neural Network from Scratch Part - 7"
   ]
  },
  {
   "cell_type": "markdown",
   "id": "0a4f336a-7d33-439b-99d5-98a88e7d4c92",
   "metadata": {},
   "source": [
    "### Calculating Network Error With Loss"
   ]
  },
  {
   "cell_type": "code",
   "execution_count": 1,
   "id": "c7031806-b1b2-4eb8-a8de-b029a1712f6c",
   "metadata": {},
   "outputs": [],
   "source": [
    "# Importing Numpy\n",
    "import numpy as np\n",
    "from nnfs.datasets import spiral_data\n",
    "import nnfs\n",
    "import matplotlib.pyplot as plt\n",
    "nnfs.init()"
   ]
  },
  {
   "cell_type": "markdown",
   "id": "8f68b2ab-81e0-4b82-bc6c-6b1a0fa33138",
   "metadata": {},
   "source": [
    "### Case - 1: When The Class Targets are Just Numbers\n",
    "\n",
    "[0, 1, 1] means [Red, Green, Green]"
   ]
  },
  {
   "cell_type": "code",
   "execution_count": 2,
   "id": "7d8e91d0-c2dd-4453-8657-2214981c8f6f",
   "metadata": {},
   "outputs": [
    {
     "name": "stdout",
     "output_type": "stream",
     "text": [
      "[0.7 0.5 0.9]\n"
     ]
    }
   ],
   "source": [
    "# A 2D NumPy array containing softmax output probabilities\n",
    "softmax_outputs = np.array([\n",
    "    [0.7, 0.1, 0.2],    # Sample 0: Class 0 has highest probability\n",
    "    [0.1, 0.5, 0.4],    # Sample 1: Class 1 is the target\n",
    "    [0.02, 0.9, 0.08]   # Sample 2: Class 1 has highest probability\n",
    "])\n",
    "\n",
    "# Actual class labels (targets) for each sample\n",
    "class_targets = np.array([0, 1, 1])\n",
    "# print(len(class_targets.shape))    # 1\n",
    "\n",
    "# softmax_outputs[[0, 1, 2], class_targets] grabs:\n",
    "# - softmax_outputs[0, 0]\n",
    "# - softmax_outputs[1, 1]\n",
    "# - softmax_outputs[2, 1]\n",
    "print(softmax_outputs[[0, 1, 2], class_targets])"
   ]
  },
  {
   "cell_type": "code",
   "execution_count": 3,
   "id": "f21f491a-e1c7-4eba-b3f0-5a04528c993d",
   "metadata": {},
   "outputs": [
    {
     "name": "stdout",
     "output_type": "stream",
     "text": [
      "[0.35667494 0.69314718 0.10536052]\n",
      "0.38506088005216804\n"
     ]
    }
   ],
   "source": [
    "# Extract the probability values corresponding to the correct classes\n",
    "correct_confidences = softmax_outputs[range(len(softmax_outputs)), class_targets]\n",
    "# Apply the negative log to get the cross-entropy loss for each sample\n",
    "neg_log = -np.log(correct_confidences)\n",
    "print(neg_log)\n",
    "\n",
    "# Calculate the average loss across all samples (mean cross-entropy loss)\n",
    "average_loss = np.mean(neg_log)\n",
    "print(average_loss)"
   ]
  },
  {
   "cell_type": "markdown",
   "id": "a2ddd846-a506-4524-866d-6f5b08afda5b",
   "metadata": {},
   "source": [
    "### Case - 2: When The Class Targets are One Hot Encoded"
   ]
  },
  {
   "cell_type": "code",
   "execution_count": 4,
   "id": "7f92db8a-b500-4983-bd76-16858f7f3187",
   "metadata": {},
   "outputs": [
    {
     "name": "stdout",
     "output_type": "stream",
     "text": [
      "[0.35667494 0.69314718 0.10536052]\n",
      "0.38506088005216804\n"
     ]
    }
   ],
   "source": [
    "true_y_value = np.array([\n",
    "    [1, 0, 0],\n",
    "    [0, 1, 0],\n",
    "    [0, 1, 0]\n",
    "])\n",
    "# print(len(true_y_value.shape))    # 2\n",
    "\n",
    "y_pred_clipped_value = np.array([\n",
    "    [0.7, 0.2, 0.1],\n",
    "    [0.1, 0.5, 0.4],\n",
    "    [0.02, 0.9, 0.08]\n",
    "])\n",
    "\n",
    "\n",
    "# Extract the probability values corresponding to the correct classes\n",
    "correct_confidences = np.sum(true_y_value * y_pred_clipped_value, axis = 1)\n",
    "neg_log = -np.log(correct_confidences)\n",
    "print(neg_log)\n",
    "\n",
    "# Calculate the average loss across all samples (mean cross-entropy loss)\n",
    "average_loss = np.mean(neg_log)\n",
    "print(average_loss)"
   ]
  },
  {
   "cell_type": "markdown",
   "id": "7bacfb7c-4738-4a9e-a8e3-c6cfd7f747b8",
   "metadata": {},
   "source": [
    "### Implementing The Categorical Cross Entropy Class"
   ]
  },
  {
   "cell_type": "code",
   "execution_count": 5,
   "id": "10e7c8de-3842-4545-b2fd-773864a04c32",
   "metadata": {},
   "outputs": [],
   "source": [
    "# Base class for all loss functions\n",
    "class Loss:\n",
    "    \n",
    "    # Calculates the mean loss over a batch of samples\n",
    "    def calculate(self, output, y):\n",
    "        \n",
    "        # Perform the forward pass (implemented in derived class, e.g., CategoricalCrossEntropy)\n",
    "        # This returns individual loss values for each sample in the batch\n",
    "        sample_losses = self.forward(output, y)\n",
    "\n",
    "        # Compute the average loss across all samples\n",
    "        data_loss = np.mean(sample_losses)\n",
    "\n",
    "        # Return the scalar average loss\n",
    "        return data_loss\n"
   ]
  },
  {
   "cell_type": "code",
   "execution_count": 6,
   "id": "c5cc8eee-e5af-41b4-a0e2-6c63a5bf4266",
   "metadata": {},
   "outputs": [],
   "source": [
    "# Cross-entropy loss for classification tasks\n",
    "# Inherits from a base Loss class\n",
    "class Loss_CategoricalCrossEntropy(Loss):\n",
    "    \n",
    "    # Forward pass to compute the loss for each sample\n",
    "    def forward(self, y_pred, y_true):\n",
    "        \n",
    "        # Get the number of samples in the batch\n",
    "        no_samples = len(y_pred)\n",
    "\n",
    "        # Clip predicted values to avoid log(0), which is undefined\n",
    "        # Clipping prevents extremely small or large values that could cause numerical issues\n",
    "        y_pred_clipped = np.clip(y_pred, 1e-7, 1 - 1e-7)\n",
    "\n",
    "        # Case 1: Labels are integer class indices (e.g., [0, 2, 1])\n",
    "        if len(y_true.shape) == 1:\n",
    "            # Extract the confidence (probability) for the correct class for each sample\n",
    "            # For each sample index `i`, get y_pred_clipped[i, y_true[i]]\n",
    "            correct_confidences = y_pred_clipped[range(no_samples), y_true]\n",
    "\n",
    "        # Case 2: Labels are one-hot encoded (e.g., [[1, 0, 0], [0, 1, 0]])\n",
    "        elif len(y_true.shape) == 2:\n",
    "            # Element-wise multiplication of predicted probs and true labels\n",
    "            # Since only the correct class has a 1, this effectively selects the correct class confidence\n",
    "            correct_confidences = np.sum(y_pred_clipped * y_true, axis=1)\n",
    "\n",
    "        # Compute the negative log of the correct class probabilities\n",
    "        # This gives the cross-entropy loss for each sample\n",
    "        negative_log_likelihoods = -np.log(correct_confidences)\n",
    "\n",
    "        # Return the loss per sample (not averaged)\n",
    "        return negative_log_likelihoods"
   ]
  },
  {
   "cell_type": "code",
   "execution_count": 7,
   "id": "293c712d-97a8-4a64-8e04-4573a8e0a6c9",
   "metadata": {},
   "outputs": [
    {
     "name": "stdout",
     "output_type": "stream",
     "text": [
      "0.38506088005216804\n"
     ]
    }
   ],
   "source": [
    "# Softmax output predictions from a neural network\n",
    "# Each row corresponds to the predicted probability distribution for one sample\n",
    "softmax_outputs = np.array([\n",
    "    [0.7, 0.1, 0.2],    # Sample 0: most confident in class 0\n",
    "    [0.1, 0.5, 0.4],    # Sample 1: most confident in class 1\n",
    "    [0.02, 0.9, 0.08]   # Sample 2: most confident in class 1\n",
    "])\n",
    "\n",
    "# True labels in one-hot encoded format\n",
    "# Each row has '1' at the correct class index\n",
    "class_targets = np.array([\n",
    "    [1, 0, 0],  # Sample 0: true class is 0\n",
    "    [0, 1, 0],  # Sample 1: true class is 1\n",
    "    [0, 1, 0]   # Sample 2: true class is 1\n",
    "])\n",
    "\n",
    "# Create an instance of the cross-entropy loss function\n",
    "loss_function = Loss_CategoricalCrossEntropy()\n",
    "\n",
    "# Calculate the average loss across all samples\n",
    "# This calls .forward() internally and returns a scalar\n",
    "total_loss = loss_function.calculate(softmax_outputs, class_targets)\n",
    "\n",
    "# Print the final averaged cross-entropy loss\n",
    "print(total_loss)"
   ]
  },
  {
   "cell_type": "markdown",
   "id": "91bae877-373f-414f-a105-65d8007cf90b",
   "metadata": {},
   "source": [
    "### Full Code Upto This Point"
   ]
  },
  {
   "cell_type": "code",
   "execution_count": null,
   "id": "3ec2a5dc-6aa1-471f-b0ff-1105f0e95ce3",
   "metadata": {},
   "outputs": [],
   "source": []
  }
 ],
 "metadata": {
  "kernelspec": {
   "display_name": "Python 3 (ipykernel)",
   "language": "python",
   "name": "python3"
  },
  "language_info": {
   "codemirror_mode": {
    "name": "ipython",
    "version": 3
   },
   "file_extension": ".py",
   "mimetype": "text/x-python",
   "name": "python",
   "nbconvert_exporter": "python",
   "pygments_lexer": "ipython3",
   "version": "3.12.7"
  }
 },
 "nbformat": 4,
 "nbformat_minor": 5
}
