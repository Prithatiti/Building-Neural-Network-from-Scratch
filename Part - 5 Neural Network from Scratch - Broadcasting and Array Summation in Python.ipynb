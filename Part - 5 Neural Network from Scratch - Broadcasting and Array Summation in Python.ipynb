{
 "cells": [
  {
   "cell_type": "markdown",
   "id": "27030e5e-9ea3-4cb0-890a-27d6410dfab2",
   "metadata": {},
   "source": [
    "# **Building Neural Network from Scratch Part - 5**"
   ]
  },
  {
   "cell_type": "code",
   "execution_count": 1,
   "id": "57b822bb-d235-456a-bb08-91d73dcb453b",
   "metadata": {},
   "outputs": [],
   "source": [
    "# Importing Numpy\n",
    "import numpy as np"
   ]
  },
  {
   "cell_type": "markdown",
   "id": "687bbaeb-816e-4ac6-bc77-d013a4d0e929",
   "metadata": {},
   "source": [
    "### Sum of array elements over a given axis"
   ]
  },
  {
   "cell_type": "code",
   "execution_count": 2,
   "id": "e48be016-9045-4cee-97fd-22ed031c26ae",
   "metadata": {},
   "outputs": [
    {
     "name": "stdout",
     "output_type": "stream",
     "text": [
      "45\n",
      "45\n",
      "[12 15 18]\n",
      "(3,)\n",
      "[ 6 15 24]\n",
      "(3,)\n"
     ]
    }
   ],
   "source": [
    "Arr = np.array([\n",
    "    [1, 2, 3],\n",
    "    [4, 5, 6],\n",
    "    [7, 8, 9]\n",
    "])\n",
    "\n",
    "# Total sum of all elements, adds every element in the matrix\n",
    "print(np.sum(Arr))\n",
    "# Axis = None means “flatten everything” and then sum\n",
    "print(np.sum(Arr, axis = None))\n",
    "# Sum along axis 0 (columns), adds down each column\n",
    "print(np.sum(Arr, axis = 0))\n",
    "print(np.sum(Arr, axis = 0).shape)\n",
    "# Sum along axis 1 (rows), adds down each row\n",
    "print(np.sum(Arr, axis = 1))\n",
    "print(np.sum(Arr, axis = 1).shape)"
   ]
  },
  {
   "cell_type": "markdown",
   "id": "31cd54e0-de0a-4753-bdbd-f469e984ad5a",
   "metadata": {},
   "source": [
    "### Use of keepdims"
   ]
  },
  {
   "cell_type": "markdown",
   "id": "0fcc51ec-a3dd-4da7-a8a8-1c2ad8e11102",
   "metadata": {},
   "source": [
    "Note: If this is set to True, the axes which are reduced are left in the result as dimensions with size one. With this option, the result will broadcast correctly against the input array."
   ]
  },
  {
   "cell_type": "code",
   "execution_count": 3,
   "id": "0c75ffbc-4e66-4d11-9ecb-ba3122605484",
   "metadata": {},
   "outputs": [
    {
     "name": "stdout",
     "output_type": "stream",
     "text": [
      "[[12 15 18]]\n",
      "(1, 3)\n",
      "[[ 6]\n",
      " [15]\n",
      " [24]]\n",
      "(3, 1)\n",
      "[7 8 9]\n",
      "[3 6 9]\n"
     ]
    }
   ],
   "source": [
    "print(np.sum(Arr, axis = 0, keepdims = True))\n",
    "print(np.sum(Arr, axis = 0, keepdims = True).shape)\n",
    "\n",
    "print(np.sum(Arr, axis = 1, keepdims = True))\n",
    "print(np.sum(Arr, axis = 1, keepdims = True).shape)\n",
    "\n",
    "print(np.max(Arr, axis = 0))\n",
    "print(np.max(Arr, axis = 1))"
   ]
  },
  {
   "cell_type": "markdown",
   "id": "bdb4c298-8ae1-434c-b71f-9d5a3c49e701",
   "metadata": {},
   "source": [
    "### Broadcasting Rule\n",
    "\n",
    "When operating on two arrays, NumPy compares their shapes element-wise. It starts with the trailing (i.e. rightmost) dimension and works its way left. Two dimensions are compatible when<br>\n",
    "- they are equal, or\n",
    "- one of them is 1.\n",
    "\n",
    "When either of the dimensions compared is one, the other is used. In other words, dimensions with size 1 are stretched or “copied” to match the other."
   ]
  },
  {
   "cell_type": "code",
   "execution_count": 4,
   "id": "9a2e15ce-3630-40ff-add5-eb9a3bc7205e",
   "metadata": {},
   "outputs": [
    {
     "name": "stdout",
     "output_type": "stream",
     "text": [
      "[[ 2  3  4]\n",
      " [ 6  7  8]\n",
      " [10 11 12]]\n"
     ]
    }
   ],
   "source": [
    "A = np.array([\n",
    "    [1, 2, 3],\n",
    "    [4, 5, 6],\n",
    "    [7, 8, 9]\n",
    "])  # Dim: 3 x 3\n",
    "\n",
    "# This 3 x 1 matrix will be broadcasted columnwise into 3 x 3 matrix\n",
    "B = np.array([\n",
    "    [1],\n",
    "    [2],\n",
    "    [3]\n",
    "])  # Dim: 3 x 1\n",
    "\n",
    "print(A + B)"
   ]
  },
  {
   "cell_type": "code",
   "execution_count": 5,
   "id": "8fb3179f-0fc3-4553-ae78-b0929e4d28ed",
   "metadata": {},
   "outputs": [
    {
     "name": "stdout",
     "output_type": "stream",
     "text": [
      "[[ 2  4  6]\n",
      " [ 5  7  9]\n",
      " [ 8 10 12]]\n"
     ]
    }
   ],
   "source": [
    "A = np.array([\n",
    "    [1, 2, 3],\n",
    "    [4, 5, 6],\n",
    "    [7, 8, 9]\n",
    "])  # Dim: 3 x 3\n",
    "\n",
    "# This 1 x 3 matrix will be broadcasted columnwise into 3 x 3 matrix\n",
    "B = np.array([[1, 2, 3]])  # Dim: 1 x 3\n",
    "\n",
    "print(A + B)"
   ]
  },
  {
   "cell_type": "raw",
   "id": "2c5a801c-2039-4b0a-9886-9ce44325e812",
   "metadata": {},
   "source": [
    "A = np.array([\n",
    "    [1, 2, 3],\n",
    "    [4, 5, 6],\n",
    "    [7, 8, 9]\n",
    "])\n",
    "\n",
    "We want to subtract the max value from each row i.e.,\n",
    "from 1st row, we want to subtract 3, from 2nd row we wnt to subtract 6 and from 3rd row we want to subtract 9"
   ]
  },
  {
   "cell_type": "code",
   "execution_count": 6,
   "id": "903c86ed-67e0-4ff7-ba84-1bc8767a7a75",
   "metadata": {},
   "outputs": [
    {
     "name": "stdout",
     "output_type": "stream",
     "text": [
      "[3 6 9]\n",
      "(3,)\n",
      "[[-2 -4 -6]\n",
      " [ 1 -1 -3]\n",
      " [ 4  2  0]]\n",
      "\n",
      "\n",
      "\n",
      "[[3]\n",
      " [6]\n",
      " [9]]\n",
      "(3, 1)\n",
      "[[-2 -4 -6]\n",
      " [ 1 -1 -3]\n",
      " [ 4  2  0]]\n"
     ]
    }
   ],
   "source": [
    "A = np.array([\n",
    "    [1, 2, 3],\n",
    "    [4, 5, 6],\n",
    "    [7, 8, 9]\n",
    "])\n",
    "\n",
    "B = np.max(A, axis = 1)\n",
    "print(B)   # Dim is treated as: 1 x 3\n",
    "print(B.shape)\n",
    "\n",
    "# This is not what we want\n",
    "print(A - B)\n",
    "\n",
    "print(\"\\n\\n\")\n",
    "\n",
    "C = np.max(A, axis = 1, keepdims = True)\n",
    "print(C)   # Dim: 3 x 1\n",
    "print(C.shape)\n",
    "\n",
    "# This is the correct answer\n",
    "print(A - B)"
   ]
  }
 ],
 "metadata": {
  "kernelspec": {
   "display_name": "Python 3 (ipykernel)",
   "language": "python",
   "name": "python3"
  },
  "language_info": {
   "codemirror_mode": {
    "name": "ipython",
    "version": 3
   },
   "file_extension": ".py",
   "mimetype": "text/x-python",
   "name": "python",
   "nbconvert_exporter": "python",
   "pygments_lexer": "ipython3",
   "version": "3.12.7"
  }
 },
 "nbformat": 4,
 "nbformat_minor": 5
}
