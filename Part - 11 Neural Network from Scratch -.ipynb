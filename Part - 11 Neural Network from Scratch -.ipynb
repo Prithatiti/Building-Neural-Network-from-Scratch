{
 "cells": [
  {
   "cell_type": "markdown",
   "id": "758fa994-0154-4b37-9421-48bca14d2d0c",
   "metadata": {},
   "source": [
    "# Building Neural Network from Scratch Part - 11"
   ]
  },
  {
   "cell_type": "code",
   "execution_count": null,
   "id": "ec50de2d-32c8-44f8-8cb9-b2bdcd8b6e8c",
   "metadata": {},
   "outputs": [],
   "source": []
  }
 ],
 "metadata": {
  "kernelspec": {
   "display_name": "Python 3 (ipykernel)",
   "language": "python",
   "name": "python3"
  },
  "language_info": {
   "codemirror_mode": {
    "name": "ipython",
    "version": 3
   },
   "file_extension": ".py",
   "mimetype": "text/x-python",
   "name": "python",
   "nbconvert_exporter": "python",
   "pygments_lexer": "ipython3",
   "version": "3.12.7"
  }
 },
 "nbformat": 4,
 "nbformat_minor": 5
}
