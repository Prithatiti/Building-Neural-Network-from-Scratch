{
 "cells": [
  {
   "cell_type": "markdown",
   "id": "64b4445b-f939-4746-b9fe-abab8f026fcd",
   "metadata": {},
   "source": [
    "# **Building Neural Network from Scratch Part - 3**"
   ]
  },
  {
   "cell_type": "code",
   "execution_count": 1,
   "id": "6076366a-3096-4c3b-8fed-80475538de2c",
   "metadata": {},
   "outputs": [],
   "source": [
    "# Importing Numpy\n",
    "import numpy as np"
   ]
  },
  {
   "cell_type": "markdown",
   "id": "f3686e3a-38d2-438c-868c-a3f6867024bc",
   "metadata": {},
   "source": [
    "### Coding only One Layer"
   ]
  },
  {
   "cell_type": "code",
   "execution_count": 2,
   "id": "be53b84c-8cd2-4368-a067-38313018335d",
   "metadata": {},
   "outputs": [
    {
     "name": "stdout",
     "output_type": "stream",
     "text": [
      "[[ 4.8    1.21   2.385]\n",
      " [ 8.9   -1.81   0.2  ]\n",
      " [ 1.41   1.051  0.026]]\n"
     ]
    }
   ],
   "source": [
    "batch_inputs = [\n",
    "    [1.0, 2.0, 3.0, 2.5],\n",
    "    [2.0, 5.0, -1.0, 2.0],\n",
    "    [-1.5, 2.7, 3.3, -0.8]\n",
    "]\n",
    "\n",
    "weights = [\n",
    "    [0.2, 0.8, -0.5, 1],\n",
    "    [0.5, -0.91, 0.26, -0.5],\n",
    "    [-0.26, -0.27, 0.17, 0.87]\n",
    "]\n",
    "\n",
    "biases = [2.0, 3.0, 0.5]\n",
    "\n",
    "# Convert each Python Lists into the Numpy Arrays\n",
    "inputs = np.array(batch_inputs)\n",
    "weights = np.array(weights)\n",
    "biases = np.array(biases)\n",
    "\n",
    "# Calculate the dot product and add the bias terms\n",
    "first_layer_output = np.dot(inputs, weights.T) + biases\n",
    "\n",
    "print(first_layer_output)"
   ]
  },
  {
   "cell_type": "markdown",
   "id": "a0c1cca2-4a08-4dad-ba6d-e298e165cc8f",
   "metadata": {},
   "source": [
    "### Two Layers and Batch of Data Using Numpy"
   ]
  },
  {
   "cell_type": "code",
   "execution_count": 3,
   "id": "e3e7ee25-17ef-46b9-9afb-fa6dd563ff76",
   "metadata": {},
   "outputs": [
    {
     "name": "stdout",
     "output_type": "stream",
     "text": [
      "[[ 0.5031  -1.04185 -2.03875]\n",
      " [ 0.2434  -2.7332  -5.7633 ]\n",
      " [-0.99314  1.41254 -0.35655]]\n"
     ]
    }
   ],
   "source": [
    "batch_inputs = [\n",
    "    [1.0, 2.0, 3.0, 2.5],\n",
    "    [2.0, 5.0, -1.0, 2.0],\n",
    "    [-1.5, 2.7, 3.3, -0.8]\n",
    "]\n",
    "\n",
    "weights_1 = [\n",
    "    [0.2, 0.8, -0.5, 1],\n",
    "    [0.5, -0.91, 0.26, -0.5],\n",
    "    [-0.26, -0.27, 0.17, 0.87]]\n",
    "\n",
    "biases_1 = [2.0, 3.0, 0.5]\n",
    "\n",
    "weights_2 = [\n",
    "    [0.1, -0.14, 0.5],\n",
    "    [-0.5, 0.12, -0.33],\n",
    "    [-0.44, 0.73, -0.13]\n",
    "]\n",
    "\n",
    "biases_2 = [-1, 2, -0.5]\n",
    "\n",
    "# Convert each Python Lists into the Numpy Arrays\n",
    "inputs = np.array(batch_inputs)\n",
    "weights_1 = np.array(weights_1)\n",
    "biases_1 = np.array(biases_1)\n",
    "weights_2 = np.array(weights_2)\n",
    "biases_2 = np.array(biases_2)\n",
    "\n",
    "# Calculate the output of the First Layer\n",
    "layer_1_outputs = np.dot(inputs, weights_1.T) + biases_1\n",
    "\n",
    "# Calculate the output of the Second Layer\n",
    "layer_2_outputs = np.dot(layer_1_outputs, weights_2.T) + biases_2\n",
    "\n",
    "print(layer_2_outputs)"
   ]
  }
 ],
 "metadata": {
  "kernelspec": {
   "display_name": "Python 3 (ipykernel)",
   "language": "python",
   "name": "python3"
  },
  "language_info": {
   "codemirror_mode": {
    "name": "ipython",
    "version": 3
   },
   "file_extension": ".py",
   "mimetype": "text/x-python",
   "name": "python",
   "nbconvert_exporter": "python",
   "pygments_lexer": "ipython3",
   "version": "3.12.7"
  }
 },
 "nbformat": 4,
 "nbformat_minor": 5
}
