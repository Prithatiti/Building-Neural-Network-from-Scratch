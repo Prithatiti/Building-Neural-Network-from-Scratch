{
 "cells": [
  {
   "cell_type": "markdown",
   "id": "fc61bd23",
   "metadata": {},
   "source": [
    "# **Building Neural Network from Scratch Part - 1**"
   ]
  },
  {
   "cell_type": "markdown",
   "id": "119d91fa",
   "metadata": {},
   "source": [
    "### Coding our First Neuron: 3 Inputs"
   ]
  },
  {
   "cell_type": "code",
   "execution_count": 1,
   "id": "35b7025b",
   "metadata": {},
   "outputs": [
    {
     "name": "stdout",
     "output_type": "stream",
     "text": [
      "2.3\n"
     ]
    }
   ],
   "source": [
    "inputs = [1, 2, 3]\n",
    "weights = [0.2, 0.8, -0.5]\n",
    "bias = 2\n",
    "\n",
    "output = inputs[0] * weights[0] + inputs[1] * weights[1] + inputs[2] * weights[2] + bias\n",
    "\n",
    "print(output)"
   ]
  },
  {
   "cell_type": "markdown",
   "id": "8c6f0890-fd9f-4ab4-9f55-bec69c0cd518",
   "metadata": {},
   "source": [
    "### Coding our Second Neuron: 4 Inputs"
   ]
  },
  {
   "cell_type": "code",
   "execution_count": 2,
   "id": "28fbd19f-11f5-49c7-bf28-efef5191a0a3",
   "metadata": {},
   "outputs": [
    {
     "name": "stdout",
     "output_type": "stream",
     "text": [
      "4.8\n"
     ]
    }
   ],
   "source": [
    "inputs = [1.0, 2.0, 3.0, 2.5]\n",
    "weights = [0.2, 0.8, -0.5, 1.0]\n",
    "bias = 2.0\n",
    "\n",
    "output = (inputs[0] * weights[0] + \n",
    "        inputs[1] * weights[1] + \n",
    "        inputs[2] * weights[2] + \n",
    "        inputs[3] * weights[3] + bias)\n",
    "\n",
    "print(output)"
   ]
  },
  {
   "cell_type": "markdown",
   "id": "93504c7e-766d-49e2-bd78-13e3fc3a5d3d",
   "metadata": {},
   "source": [
    "### Coding Our First Layer"
   ]
  },
  {
   "cell_type": "code",
   "execution_count": 3,
   "id": "d79cb57d-c2ea-4100-9953-7713fc228741",
   "metadata": {},
   "outputs": [
    {
     "name": "stdout",
     "output_type": "stream",
     "text": [
      "[4.8, 1.21, 2.385]\n"
     ]
    }
   ],
   "source": [
    "inputs = [1, 2, 3, 2.5]\n",
    "weights = [[0.2, 0.8, -0.5, 1],\n",
    "          [0.5, -0.91, 0.26, -0.5],\n",
    "          [-0.26, -0.27, 0.17, 0.87]]\n",
    "\n",
    "weights_1 = weights[0]    # List of weights associated with the 1st output neuron : w11, w12, w13, w14\n",
    "weights_2 = weights[1]    # List of weights associated with the 2nd output neuron : w21, w22, w23, w24\n",
    "weights_3 = weights[2]    # List of weights associated with the 3rd output neuron : w31, w32, w33, w34\n",
    "\n",
    "\n",
    "biases = [2, 3, 0.5]\n",
    "\n",
    "bias_1 = biases[0]    # bias associated with the 1st output neuron\n",
    "bias_2 = biases[1]    # bias associated with the 2nd output neuron\n",
    "bias_3 = biases[2]    # bias associated with the 3rd output neuron\n",
    "\n",
    "outputs = [\n",
    "    #Neuron 1:\n",
    "    inputs[0] * weights_1[0] +\n",
    "    inputs[1] * weights_1[1] +\n",
    "    inputs[2] * weights_1[2] +\n",
    "    inputs[3] * weights_1[3] + bias_1,\n",
    "\n",
    "    #Neuron 2:\n",
    "    inputs[0] * weights_2[0] +\n",
    "    inputs[1] * weights_2[1] +\n",
    "    inputs[2] * weights_2[2] +\n",
    "    inputs[3] * weights_2[3] + bias_2,\n",
    "\n",
    "    #Neuron 3:\n",
    "    inputs[0] * weights_3[0] +\n",
    "    inputs[1] * weights_3[1] +\n",
    "    inputs[2] * weights_3[2] +\n",
    "    inputs[3] * weights_3[3] + bias_3\n",
    "]\n",
    "\n",
    "print(outputs)"
   ]
  },
  {
   "cell_type": "markdown",
   "id": "e5cc3144-3109-431b-9ebb-c3a3b78db817",
   "metadata": {},
   "source": [
    "### Using Loops for Better and Easier Coding"
   ]
  },
  {
   "cell_type": "code",
   "execution_count": 4,
   "id": "a62e8f51-f22d-40c8-9db5-9c219a32ac33",
   "metadata": {},
   "outputs": [
    {
     "name": "stdout",
     "output_type": "stream",
     "text": [
      "[2.2, 6.6000000000000005, 14.2]\n"
     ]
    }
   ],
   "source": [
    "inputs = [1.1, 2.2, 3.3]\n",
    "\n",
    "# List of weights\n",
    "weights = [\n",
    "    [2, 0, 0],\n",
    "    [2, 2, 0],\n",
    "    [2, 2, 2]\n",
    "]\n",
    "\n",
    "# List of biases\n",
    "biases = [0, 0, 1]\n",
    "\n",
    "# Output of current layer\n",
    "layer_output = []\n",
    "\n",
    "# For each neuron\n",
    "for neuron_weights, neuron_bias in zip(weights, biases):\n",
    "    neuron_output = 0\n",
    "\n",
    "    for n_input, weight in zip(inputs, neuron_weights):\n",
    "        neuron_output += n_input * weight\n",
    "        \n",
    "    neuron_output += neuron_bias\n",
    "    layer_output.append(neuron_output)\n",
    "\n",
    "print(layer_output)"
   ]
  }
 ],
 "metadata": {
  "kernelspec": {
   "display_name": "base",
   "language": "python",
   "name": "python3"
  },
  "language_info": {
   "codemirror_mode": {
    "name": "ipython",
    "version": 3
   },
   "file_extension": ".py",
   "mimetype": "text/x-python",
   "name": "python",
   "nbconvert_exporter": "python",
   "pygments_lexer": "ipython3",
   "version": "3.12.7"
  }
 },
 "nbformat": 4,
 "nbformat_minor": 5
}
